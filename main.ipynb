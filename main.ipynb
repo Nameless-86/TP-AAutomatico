{
 "cells": [
  {
   "cell_type": "markdown",
   "metadata": {},
   "source": [
    "# Importar librerias"
   ]
  },
  {
   "cell_type": "code",
   "execution_count": 1,
   "metadata": {},
   "outputs": [],
   "source": [
    "import pandas as pd\n",
    "import numpy as np\n",
    "import matplotlib.pyplot as plt\n",
    "import seaborn as sns\n",
    "from sklearn.impute import SimpleImputer\n",
    "#from sklearn.impute import KNNImputer\n",
    "from sklearn.model_selection import train_test_split\n",
    "from sklearn.preprocessing import StandardScaler,OneHotEncoder, LabelEncoder\n",
    "from sklearn.metrics import accuracy_score,roc_auc_score,precision_score, recall_score, f1_score,ConfusionMatrixDisplay,classification_report"
   ]
  },
  {
   "cell_type": "markdown",
   "metadata": {},
   "source": [
    "# Armar un dataframe"
   ]
  },
  {
   "cell_type": "code",
   "execution_count": 2,
   "metadata": {},
   "outputs": [],
   "source": [
    "df = pd.read_csv('weatherAUS.csv')\n",
    "df_subset = df.iloc[:,1:]"
   ]
  },
  {
   "cell_type": "markdown",
   "metadata": {},
   "source": [
    "# Vistazo rapido del dataframe"
   ]
  },
  {
   "cell_type": "code",
   "execution_count": null,
   "metadata": {},
   "outputs": [],
   "source": [
    "df_subset.head()\n",
    "\n"
   ]
  },
  {
   "cell_type": "code",
   "execution_count": null,
   "metadata": {},
   "outputs": [],
   "source": [
    "df_subset.tail(5)"
   ]
  },
  {
   "cell_type": "code",
   "execution_count": null,
   "metadata": {},
   "outputs": [],
   "source": [
    "df_subset.describe()"
   ]
  },
  {
   "cell_type": "code",
   "execution_count": null,
   "metadata": {},
   "outputs": [],
   "source": [
    "df_subset.info()"
   ]
  },
  {
   "cell_type": "markdown",
   "metadata": {},
   "source": [
    "# Ver las columnas e identificar cada una"
   ]
  },
  {
   "cell_type": "code",
   "execution_count": 3,
   "metadata": {},
   "outputs": [
    {
     "data": {
      "text/plain": [
       "Index(['Date', 'Location', 'MinTemp', 'MaxTemp', 'Rainfall', 'Evaporation',\n",
       "       'Sunshine', 'WindGustDir', 'WindGustSpeed', 'WindDir9am', 'WindDir3pm',\n",
       "       'WindSpeed9am', 'WindSpeed3pm', 'Humidity9am', 'Humidity3pm',\n",
       "       'Pressure9am', 'Pressure3pm', 'Cloud9am', 'Cloud3pm', 'Temp9am',\n",
       "       'Temp3pm', 'RainToday', 'RainTomorrow', 'RainfallTomorrow'],\n",
       "      dtype='object')"
      ]
     },
     "execution_count": 3,
     "metadata": {},
     "output_type": "execute_result"
    }
   ],
   "source": [
    "df_subset.columns"
   ]
  },
  {
   "cell_type": "markdown",
   "metadata": {},
   "source": [
    "25 Columnas\n",
    "\n",
    "**Unnamed** Indices (no esta en df_subset)\n",
    "\n",
    "**Date** fecha de la observacion\n",
    "\n",
    "**Location** Nombre del lugar donde esta la estacion meteorologica\n",
    "\n",
    "**MinTemp** Temperatura minima. En grados celsius\n",
    "\n",
    "**MaxTemp** Temperatura maxima. En grados celsius\n",
    "\n",
    "**Rainfall** cantidad de lluvia registrada en el dia. En mm\n",
    "\n",
    "**Evaporation** evaporacion (mm) de 00 a 09am.\n",
    "\n",
    "**Sunshine** Numero de horas de luz solar durante el dia.\n",
    "\n",
    "**WindGustDir** direccion de la rafaga de viento mas fuerte en las 24 horas\n",
    "\n",
    "**WindGustSpeed** velocidad de la rafaga de viento mas fuerte en km/h\n",
    "\n",
    "**WindDir9am** direccion del viento a las 9 am\n",
    "\n",
    "**WindDir3pm** direccion del viento a las 3 pm\n",
    "\n",
    "**WindSpeed9am** velocidad del viento en km/h, a las 9 am\n",
    "\n",
    "**WindSpeed3pm** velocidad del viento en km/h, a las 3 pm\n",
    "\n",
    "**Humidity9am** humedad en porcentaje a las 9 am\n",
    "\n",
    "**Humidity3pm** humedad en porcentaje a las 3 pm\n",
    "\n",
    "**Pressure9am** presion atmosferica en (hpa) al nivel del mar a las 9 am\n",
    "\n",
    "**Pressure9am** presion atmosferica en (hpa) al nivel del mar a las 3 pm\n",
    "\n",
    "**Cloud9am** Fraccion del cielo oscurecida por nubes medida en fracciones de 8 (0 indica sin nubes, 8 totalmente nublado) a las 9 am\n",
    "\n",
    "**Cloud9am** Fraccion del cielo oscurecida por nubes medida en fracciones de 8 (0 indica sin nubes, 8 totalmente nublado) a las 3pm\n",
    "\n",
    "**Temp9am** temperatura en grados celsius a las 9 am\n",
    "\n",
    "**Temp3pm** temperatura en grados celsius a las 3 pm\n",
    "\n",
    "**RainToday** valor booleano si llovio o no durante el dia (1 si pasa 1 mm)\n",
    "\n",
    "**RainTomorrow** Cantidad de lluvia al dia siguiente en mm\n",
    "\n",
    "**RainfallTomorrow** cantidad de lluvia al dia siguiente en mm"
   ]
  },
  {
   "cell_type": "markdown",
   "metadata": {},
   "source": [
    "# Que no voy a usar\n",
    "Date No se va a usar\n",
    "Localization sera descartada ya que se tratan solamente de ciudades de Australia\n",
    "tengo 145411 filas, si una columna tiene mas de 48000 valores faltantes la elimino (48000 es un tercio de los datos)\n",
    " Cloud9am y Cloud3pm tienen casi 60000 valores faltantes, Sunshine y Evaporation superan ampliamente los 48000.\n",
    " Por lo que estas columnas seran descartadas\n",
    "\n",
    "\n",
    "\n",
    " # Eliminar huecos en la data\n",
    "tengo 145411 filas, si una columna tiene mas de 48000 valores faltantes la elimino (48000 es un tercio de los datos)\n",
    " Cloud9am y Cloud3pm tienen casi 60000 valores faltantes, Sunshine y Evaporation superan ampliamente los 48000.\n",
    " Por lo que estas columnas seran descartadas"
   ]
  },
  {
   "cell_type": "code",
   "execution_count": 4,
   "metadata": {},
   "outputs": [],
   "source": [
    "df_subset = df_subset.drop(['Date', 'Location','Evaporation', 'Sunshine', 'Cloud9am', 'Cloud3pm'], axis=1)"
   ]
  },
  {
   "cell_type": "markdown",
   "metadata": {},
   "source": [
    "# Que valores son numericos y cuales son categoricos"
   ]
  },
  {
   "cell_type": "code",
   "execution_count": 5,
   "metadata": {},
   "outputs": [],
   "source": [
    "def num_or_cat(df):\n",
    "    categorical = df.select_dtypes(include='object').columns\n",
    "    numerical = df.select_dtypes(exclude='object').columns\n",
    "\n",
    "    return(categorical, numerical)"
   ]
  },
  {
   "cell_type": "code",
   "execution_count": 6,
   "metadata": {},
   "outputs": [],
   "source": [
    "categorical_cols, numerical_cols= num_or_cat(df_subset)\n"
   ]
  },
  {
   "cell_type": "markdown",
   "metadata": {},
   "source": [
    "# Contando valores faltantes"
   ]
  },
  {
   "cell_type": "code",
   "execution_count": 7,
   "metadata": {},
   "outputs": [
    {
     "data": {
      "text/plain": [
       "MinTemp              1484\n",
       "MaxTemp              1253\n",
       "Rainfall             3260\n",
       "WindGustDir         10316\n",
       "WindGustSpeed       10253\n",
       "WindDir9am          10562\n",
       "WindDir3pm           4226\n",
       "WindSpeed9am         1767\n",
       "WindSpeed3pm         3061\n",
       "Humidity9am          2653\n",
       "Humidity3pm          4505\n",
       "Pressure9am         15061\n",
       "Pressure3pm         15024\n",
       "Temp9am              1766\n",
       "Temp3pm              3607\n",
       "RainToday            3260\n",
       "RainTomorrow         3259\n",
       "RainfallTomorrow     3259\n",
       "dtype: int64"
      ]
     },
     "execution_count": 7,
     "metadata": {},
     "output_type": "execute_result"
    }
   ],
   "source": [
    "df_subset.isnull().sum()"
   ]
  },
  {
   "cell_type": "markdown",
   "metadata": {},
   "source": [
    "# llenar columnas numericas"
   ]
  },
  {
   "cell_type": "code",
   "execution_count": 8,
   "metadata": {},
   "outputs": [],
   "source": [
    "imputer = SimpleImputer(missing_values=np.nan, strategy=\"median\", fill_value=None)\n",
    "\n",
    "for columna in numerical_cols:\n",
    "    df_subset[columna] = imputer.fit_transform(df_subset[[columna]])"
   ]
  },
  {
   "cell_type": "code",
   "execution_count": null,
   "metadata": {},
   "outputs": [],
   "source": [
    "#knnimputer = KNNImputer(missing_values=np.nan, n_neighbors=5, weights='uniform')\n",
    "#\n",
    "#for columna in numerical_cols:\n",
    "#    df_subset[columna] = knnimputer.fit_transform(df_subset[[columna]])"
   ]
  },
  {
   "cell_type": "code",
   "execution_count": 9,
   "metadata": {},
   "outputs": [
    {
     "data": {
      "text/plain": [
       "MinTemp                 0\n",
       "MaxTemp                 0\n",
       "Rainfall                0\n",
       "WindGustDir         10316\n",
       "WindGustSpeed           0\n",
       "WindDir9am          10562\n",
       "WindDir3pm           4226\n",
       "WindSpeed9am            0\n",
       "WindSpeed3pm            0\n",
       "Humidity9am             0\n",
       "Humidity3pm             0\n",
       "Pressure9am             0\n",
       "Pressure3pm             0\n",
       "Temp9am                 0\n",
       "Temp3pm                 0\n",
       "RainToday            3260\n",
       "RainTomorrow         3259\n",
       "RainfallTomorrow        0\n",
       "dtype: int64"
      ]
     },
     "execution_count": 9,
     "metadata": {},
     "output_type": "execute_result"
    }
   ],
   "source": [
    "df_subset.isnull().sum()"
   ]
  },
  {
   "cell_type": "markdown",
   "metadata": {},
   "source": [
    "Capaz saque rainfall tomorrow del loop"
   ]
  },
  {
   "cell_type": "markdown",
   "metadata": {},
   "source": [
    "# Cambiar Datos categoricos"
   ]
  },
  {
   "cell_type": "markdown",
   "metadata": {},
   "source": [
    "En el caso de las columnas RainToday y RainTomorrow pasar Yes a 1 y no a 0"
   ]
  },
  {
   "cell_type": "code",
   "execution_count": 10,
   "metadata": {},
   "outputs": [
    {
     "data": {
      "text/plain": [
       "Index(['WindGustDir', 'WindDir9am', 'WindDir3pm', 'RainToday', 'RainTomorrow'], dtype='object')"
      ]
     },
     "execution_count": 10,
     "metadata": {},
     "output_type": "execute_result"
    }
   ],
   "source": [
    "categorical_cols"
   ]
  },
  {
   "cell_type": "code",
   "execution_count": null,
   "metadata": {},
   "outputs": [],
   "source": [
    "df_subset['RainToday']=df_subset['RainToday'].fillna('No')\n",
    "df_subset['RainTomorrow']=df_subset['RainTomorrow'].fillna('No')\n"
   ]
  },
  {
   "cell_type": "code",
   "execution_count": null,
   "metadata": {},
   "outputs": [],
   "source": [
    "df_subset['RainToday'] = df_subset['RainToday'].map({'No':0, 'Yes':1})\n",
    "df_subset['RainTomorrow'] = df_subset['RainTomorrow'].map({'No':0, 'Yes':1})"
   ]
  },
  {
   "cell_type": "markdown",
   "metadata": {},
   "source": [
    "# El resto de columnas categoricas reemplazar valores faltantes por la moda"
   ]
  },
  {
   "cell_type": "code",
   "execution_count": null,
   "metadata": {},
   "outputs": [],
   "source": [
    "df_subset['WindGustDir'] = df_subset['WindGustDir'].fillna(df_subset['WindGustDir'].mode()[0])\n",
    "df_subset['WindDir9am'] = df_subset['WindDir9am'].fillna(df_subset['WindDir9am'].mode()[0])\n",
    "df_subset['WindDir3pm'] = df_subset['WindDir3pm'].fillna(df_subset['WindDir3pm'].mode()[0])"
   ]
  },
  {
   "cell_type": "markdown",
   "metadata": {},
   "source": [
    "# ----------------------------------------------------------------------------------------------------"
   ]
  },
  {
   "cell_type": "code",
   "execution_count": null,
   "metadata": {},
   "outputs": [],
   "source": [
    "lista = ['Evaporation', 'Sunshine', 'Cloud9am', 'Cloud3pm']\n",
    "numerical_cols_copy = [elemento for elemento in numerical_cols if elemento not in lista]\n"
   ]
  },
  {
   "cell_type": "markdown",
   "metadata": {},
   "source": [
    "# Graficar datos numericos"
   ]
  },
  {
   "cell_type": "code",
   "execution_count": null,
   "metadata": {},
   "outputs": [],
   "source": [
    "for i in range(len(numerical_cols_copy)):\n",
    "    plt.figure(figsize=(7,7))\n",
    "    sns.histplot(df_subset[numerical_cols_copy[i]], color=\"blue\")\n",
    "    label=numerical_cols_copy[i]\n",
    "    plt.xlabel(numerical_cols_copy[i])\n",
    "    plt.ylabel(\"count\")\n",
    "    plt.title(label)\n",
    "\n"
   ]
  },
  {
   "cell_type": "code",
   "execution_count": null,
   "metadata": {},
   "outputs": [],
   "source": [
    "df_subset.isnull().sum()"
   ]
  },
  {
   "cell_type": "markdown",
   "metadata": {},
   "source": [
    "# Graficar Categoricos\n"
   ]
  },
  {
   "cell_type": "code",
   "execution_count": null,
   "metadata": {},
   "outputs": [],
   "source": [
    "for i in range(len(categorical_cols)):\n",
    "    plt.figure(figsize=(7,7))\n",
    "    sns.histplot(df_subset[categorical_cols[i]], color=\"blue\")\n",
    "    label=categorical_cols[i]\n",
    "    plt.xlabel(categorical_cols[i])\n",
    "    plt.ylabel(\"count\")\n",
    "    plt.title(label)"
   ]
  },
  {
   "cell_type": "code",
   "execution_count": null,
   "metadata": {},
   "outputs": [],
   "source": [
    "df_subset.isnull().sum()"
   ]
  },
  {
   "cell_type": "markdown",
   "metadata": {},
   "source": [
    "# Check si esta balanceado"
   ]
  },
  {
   "cell_type": "code",
   "execution_count": null,
   "metadata": {},
   "outputs": [],
   "source": [
    "plt.figure(figsize=(3,3))\n",
    "sns.countplot(x=df_subset['RainTomorrow'])\n",
    "plt.title(\"Balanceado\")\n",
    "plt.show()"
   ]
  },
  {
   "cell_type": "markdown",
   "metadata": {},
   "source": [
    "# Preparar dataset"
   ]
  },
  {
   "cell_type": "code",
   "execution_count": null,
   "metadata": {},
   "outputs": [],
   "source": [
    "copia_df = df_subset.copy()"
   ]
  },
  {
   "cell_type": "markdown",
   "metadata": {},
   "source": [
    "# Codear los datos categoricos"
   ]
  },
  {
   "cell_type": "code",
   "execution_count": null,
   "metadata": {},
   "outputs": [],
   "source": [
    "le = LabelEncoder()\n",
    "for columna in categorical_cols:\n",
    "    copia_df[columna] = le.fit_transform(copia_df[columna])"
   ]
  },
  {
   "cell_type": "code",
   "execution_count": null,
   "metadata": {},
   "outputs": [],
   "source": [
    "copia_df.head()"
   ]
  },
  {
   "cell_type": "markdown",
   "metadata": {},
   "source": [
    "# Estandarizar los numericos"
   ]
  },
  {
   "cell_type": "code",
   "execution_count": null,
   "metadata": {},
   "outputs": [],
   "source": [
    "#sc = StandardScaler()\n",
    "#copia_df[numerical_cols_copy]= sc.fit_transform(copia_df[numerical_cols_copy])"
   ]
  },
  {
   "cell_type": "code",
   "execution_count": null,
   "metadata": {},
   "outputs": [],
   "source": [
    "copia_df.head()"
   ]
  },
  {
   "cell_type": "markdown",
   "metadata": {},
   "source": [
    "# Dividir en train test"
   ]
  },
  {
   "cell_type": "code",
   "execution_count": null,
   "metadata": {},
   "outputs": [],
   "source": [
    "copia_df.head()"
   ]
  },
  {
   "cell_type": "code",
   "execution_count": null,
   "metadata": {},
   "outputs": [],
   "source": []
  },
  {
   "cell_type": "code",
   "execution_count": null,
   "metadata": {},
   "outputs": [],
   "source": [
    "df_subset = df_subset.drop(['Evaporation', 'Sunshine', 'Cloud9am', 'Cloud3pm'], axis=1)"
   ]
  },
  {
   "cell_type": "code",
   "execution_count": null,
   "metadata": {},
   "outputs": [],
   "source": [
    "X_train,X_test,y_train,y_test = train_test_split(X,Y,test_size=0.2,random_state=69)"
   ]
  }
 ],
 "metadata": {
  "kernelspec": {
   "display_name": "Python 3",
   "language": "python",
   "name": "python3"
  },
  "language_info": {
   "codemirror_mode": {
    "name": "ipython",
    "version": 3
   },
   "file_extension": ".py",
   "mimetype": "text/x-python",
   "name": "python",
   "nbconvert_exporter": "python",
   "pygments_lexer": "ipython3",
   "version": "3.11.4"
  },
  "orig_nbformat": 4
 },
 "nbformat": 4,
 "nbformat_minor": 2
}
